{
 "cells": [
  {
   "cell_type": "markdown",
   "metadata": {
    "tags": []
   },
   "source": [
    "# Starbucks Capstone Challenge \n",
    "## Prepare data "
   ]
  },
  {
   "cell_type": "code",
   "execution_count": 1,
   "metadata": {},
   "outputs": [],
   "source": [
    "import pandas as pd\n",
    "import numpy as np\n",
    "import math\n",
    "import json\n",
    "import matplotlib.pyplot as plt\n",
    "\n",
    "import seaborn as sns\n",
    "from sklearn.preprocessing import OneHotEncoder\n",
    "    \n",
    "sns.set_theme(style='darkgrid')\n",
    "# read in the json files\n",
    "portfolio = pd.read_json('../data/raw/portfolio.json', orient='records', lines=True)\n",
    "profile = pd.read_json('../data/raw/profile.json', orient='records', lines=True)\n",
    "transcript = pd.read_json('../data/raw/transcript.json', orient='records', lines=True)"
   ]
  },
  {
   "cell_type": "markdown",
   "metadata": {},
   "source": [
    "### 1. Data processing"
   ]
  },
  {
   "cell_type": "code",
   "execution_count": 2,
   "metadata": {
    "tags": []
   },
   "outputs": [],
   "source": [
    "# Get offer ids from 'value' column, convert to float, and store in new column\n",
    "offer_ids = dict()\n",
    "indx = list(transcript[transcript['event']!='transaction'].index)\n",
    "\n",
    "for ind in indx: \n",
    "    offer_id = list(transcript.iloc[ind]['value'].values())[0]\n",
    "    offer_ids.update({ind:offer_id})\n",
    "    \n",
    "# Make dataframe from dictionary of index, offer_id strings     \n",
    "offer_id_df = pd.DataFrame.from_dict(offer_ids, orient='index', columns=['offer_ids'])\n",
    "\n",
    "# Concat transcript_mod and offer_id_df dataframes\n",
    "transcript_mod = pd.concat([transcript, offer_id_df], axis=1, ignore_index=False)"
   ]
  },
  {
   "cell_type": "code",
   "execution_count": 3,
   "metadata": {
    "tags": []
   },
   "outputs": [],
   "source": [
    "# rename column 'id' as offer_ids to remain consistent with transcript df\n",
    "portfolio = portfolio.rename(columns={'id':'offer_ids'})"
   ]
  },
  {
   "cell_type": "code",
   "execution_count": 4,
   "metadata": {},
   "outputs": [],
   "source": [
    "# merge transcript and portfolio dataframes\n",
    "transcript_portfolio = transcript_mod.merge(portfolio[['offer_ids', 'offer_type']], on='offer_ids', how='left')\n",
    "\n",
    "# filter transcript_portfolio to get transcripts corresponding to BOGO offers \n",
    "bogo = transcript_portfolio[transcript_portfolio['offer_type']=='bogo']"
   ]
  },
  {
   "cell_type": "code",
   "execution_count": 5,
   "metadata": {},
   "outputs": [],
   "source": [
    "# count the number of events per person\n",
    "bogos_per_person = bogo.groupby('person')['event'].value_counts().unstack()"
   ]
  },
  {
   "cell_type": "code",
   "execution_count": 6,
   "metadata": {},
   "outputs": [],
   "source": [
    "# rename column 'id' to 'person' to remain consistent with transcript\n",
    "profile = profile.rename(columns={'id':'person'})"
   ]
  },
  {
   "cell_type": "code",
   "execution_count": 7,
   "metadata": {},
   "outputs": [],
   "source": [
    "# Remove people was ages > 99\n",
    "profile = profile[profile['age'] <= 99]"
   ]
  },
  {
   "cell_type": "code",
   "execution_count": 8,
   "metadata": {},
   "outputs": [],
   "source": [
    "# Remove people with income > 1000000\n",
    "profile = profile[profile['income'] < 1000000.0]"
   ]
  },
  {
   "cell_type": "markdown",
   "metadata": {},
   "source": [
    "### 2. Feature engineering"
   ]
  },
  {
   "cell_type": "code",
   "execution_count": 9,
   "metadata": {},
   "outputs": [],
   "source": [
    "# Binarise age based on criteria old=1, young=0\n",
    "def age_group(age):\n",
    "    if age > 35: \n",
    "        return 'old'\n",
    "    else:\n",
    "        return 'young'\n",
    "profile['age_group'] = profile['age'].apply(lambda x:age_group(x))"
   ]
  },
  {
   "cell_type": "code",
   "execution_count": 10,
   "metadata": {},
   "outputs": [],
   "source": [
    "# Binarise income based on criteria rich=1, poor=0\n",
    "def income_group(income):\n",
    "    if income > 60000: \n",
    "        return 'high income'\n",
    "    else:\n",
    "        return 'low income'\n",
    "profile['income_group'] = profile['income'].apply(lambda x:income_group(x))"
   ]
  },
  {
   "cell_type": "code",
   "execution_count": 11,
   "metadata": {},
   "outputs": [],
   "source": [
    "# select columns needed for training model\n",
    "profile_subset = profile[['person','income_group','age_group', 'gender']]"
   ]
  },
  {
   "cell_type": "code",
   "execution_count": 12,
   "metadata": {},
   "outputs": [],
   "source": [
    "# reset index to allow ease concatanation with transformed ohe data\n",
    "profile_subset = profile_subset.reset_index()\n",
    "\n",
    "profile_subset.drop('index', axis=1, inplace=True)"
   ]
  },
  {
   "cell_type": "code",
   "execution_count": 13,
   "metadata": {},
   "outputs": [],
   "source": [
    "# One hot encode age_group, income_group, gender\n",
    "\n",
    "# intantiate onehotencoder\n",
    "enc = OneHotEncoder(handle_unknown='ignore')\n",
    "\n",
    "# fit onehotencoder on data\n",
    "enc.fit(profile_subset[['income_group','age_group', 'gender']])\n",
    "\n",
    "# one hot encode features\n",
    "transformed = enc.transform(profile_subset[['income_group','age_group', 'gender']]).toarray()\n",
    "\n",
    "#Create a Pandas DataFrame of the hot encoded column\n",
    "ohe_df = pd.DataFrame(transformed, columns=enc.get_feature_names_out())\n",
    "\n",
    "#concat with original data\n",
    "profile_subset_ohe = pd.concat([profile_subset, ohe_df], axis=1)\n",
    "\n",
    "profile_subset_ohe.drop(['income_group','age_group', 'gender'], axis=1, inplace=True)"
   ]
  },
  {
   "cell_type": "code",
   "execution_count": 14,
   "metadata": {},
   "outputs": [],
   "source": [
    "# merge bogo df with demographic data\n",
    "bogos_per_person_demo = bogos_per_person.merge(profile_subset_ohe, left_index=True, right_on='person', how='left').set_index('person')"
   ]
  },
  {
   "cell_type": "code",
   "execution_count": 15,
   "metadata": {},
   "outputs": [],
   "source": [
    "# add viewed and received columns\n",
    "bogos_per_person_demo['received'] = bogos_per_person_demo['offer received'] > 0\n",
    "bogos_per_person_demo['viewed'] = bogos_per_person_demo['offer viewed'] > 0"
   ]
  },
  {
   "cell_type": "code",
   "execution_count": 17,
   "metadata": {},
   "outputs": [],
   "source": [
    "# drop people with missing demographic data (note: people either have all demographic data filled in or none, so only need to drop based on missing demographic data in one column)\n",
    "bogos_per_person_demo.dropna(subset=['age_group_old'], inplace=True)"
   ]
  },
  {
   "cell_type": "code",
   "execution_count": 18,
   "metadata": {},
   "outputs": [
    {
     "data": {
      "text/html": [
       "<div>\n",
       "<style scoped>\n",
       "    .dataframe tbody tr th:only-of-type {\n",
       "        vertical-align: middle;\n",
       "    }\n",
       "\n",
       "    .dataframe tbody tr th {\n",
       "        vertical-align: top;\n",
       "    }\n",
       "\n",
       "    .dataframe thead th {\n",
       "        text-align: right;\n",
       "    }\n",
       "</style>\n",
       "<table border=\"1\" class=\"dataframe\">\n",
       "  <thead>\n",
       "    <tr style=\"text-align: right;\">\n",
       "      <th></th>\n",
       "      <th>income_group_high income</th>\n",
       "      <th>income_group_low income</th>\n",
       "      <th>age_group_old</th>\n",
       "      <th>age_group_young</th>\n",
       "      <th>gender_F</th>\n",
       "      <th>gender_M</th>\n",
       "      <th>gender_O</th>\n",
       "      <th>viewed</th>\n",
       "    </tr>\n",
       "    <tr>\n",
       "      <th>person</th>\n",
       "      <th></th>\n",
       "      <th></th>\n",
       "      <th></th>\n",
       "      <th></th>\n",
       "      <th></th>\n",
       "      <th></th>\n",
       "      <th></th>\n",
       "      <th></th>\n",
       "    </tr>\n",
       "  </thead>\n",
       "  <tbody>\n",
       "    <tr>\n",
       "      <th>0009655768c64bdeb2e877511632db8f</th>\n",
       "      <td>1.0</td>\n",
       "      <td>0.0</td>\n",
       "      <td>0.0</td>\n",
       "      <td>1.0</td>\n",
       "      <td>0.0</td>\n",
       "      <td>1.0</td>\n",
       "      <td>0.0</td>\n",
       "      <td>True</td>\n",
       "    </tr>\n",
       "    <tr>\n",
       "      <th>0011e0d4e6b944f998e987f904e8c1e5</th>\n",
       "      <td>0.0</td>\n",
       "      <td>1.0</td>\n",
       "      <td>1.0</td>\n",
       "      <td>0.0</td>\n",
       "      <td>0.0</td>\n",
       "      <td>0.0</td>\n",
       "      <td>1.0</td>\n",
       "      <td>True</td>\n",
       "    </tr>\n",
       "    <tr>\n",
       "      <th>0020c2b971eb4e9188eac86d93036a77</th>\n",
       "      <td>1.0</td>\n",
       "      <td>0.0</td>\n",
       "      <td>1.0</td>\n",
       "      <td>0.0</td>\n",
       "      <td>1.0</td>\n",
       "      <td>0.0</td>\n",
       "      <td>0.0</td>\n",
       "      <td>True</td>\n",
       "    </tr>\n",
       "    <tr>\n",
       "      <th>0020ccbbb6d84e358d3414a3ff76cffd</th>\n",
       "      <td>0.0</td>\n",
       "      <td>1.0</td>\n",
       "      <td>0.0</td>\n",
       "      <td>1.0</td>\n",
       "      <td>1.0</td>\n",
       "      <td>0.0</td>\n",
       "      <td>0.0</td>\n",
       "      <td>True</td>\n",
       "    </tr>\n",
       "    <tr>\n",
       "      <th>004b041fbfe44859945daa2c7f79ee64</th>\n",
       "      <td>1.0</td>\n",
       "      <td>0.0</td>\n",
       "      <td>1.0</td>\n",
       "      <td>0.0</td>\n",
       "      <td>1.0</td>\n",
       "      <td>0.0</td>\n",
       "      <td>0.0</td>\n",
       "      <td>True</td>\n",
       "    </tr>\n",
       "  </tbody>\n",
       "</table>\n",
       "</div>"
      ],
      "text/plain": [
       "                                  income_group_high income  \\\n",
       "person                                                       \n",
       "0009655768c64bdeb2e877511632db8f                       1.0   \n",
       "0011e0d4e6b944f998e987f904e8c1e5                       0.0   \n",
       "0020c2b971eb4e9188eac86d93036a77                       1.0   \n",
       "0020ccbbb6d84e358d3414a3ff76cffd                       0.0   \n",
       "004b041fbfe44859945daa2c7f79ee64                       1.0   \n",
       "\n",
       "                                  income_group_low income  age_group_old  \\\n",
       "person                                                                     \n",
       "0009655768c64bdeb2e877511632db8f                      0.0            0.0   \n",
       "0011e0d4e6b944f998e987f904e8c1e5                      1.0            1.0   \n",
       "0020c2b971eb4e9188eac86d93036a77                      0.0            1.0   \n",
       "0020ccbbb6d84e358d3414a3ff76cffd                      1.0            0.0   \n",
       "004b041fbfe44859945daa2c7f79ee64                      0.0            1.0   \n",
       "\n",
       "                                  age_group_young  gender_F  gender_M  \\\n",
       "person                                                                  \n",
       "0009655768c64bdeb2e877511632db8f              1.0       0.0       1.0   \n",
       "0011e0d4e6b944f998e987f904e8c1e5              0.0       0.0       0.0   \n",
       "0020c2b971eb4e9188eac86d93036a77              0.0       1.0       0.0   \n",
       "0020ccbbb6d84e358d3414a3ff76cffd              1.0       1.0       0.0   \n",
       "004b041fbfe44859945daa2c7f79ee64              0.0       1.0       0.0   \n",
       "\n",
       "                                  gender_O  viewed  \n",
       "person                                              \n",
       "0009655768c64bdeb2e877511632db8f       0.0    True  \n",
       "0011e0d4e6b944f998e987f904e8c1e5       1.0    True  \n",
       "0020c2b971eb4e9188eac86d93036a77       0.0    True  \n",
       "0020ccbbb6d84e358d3414a3ff76cffd       0.0    True  \n",
       "004b041fbfe44859945daa2c7f79ee64       0.0    True  "
      ]
     },
     "execution_count": 18,
     "metadata": {},
     "output_type": "execute_result"
    }
   ],
   "source": [
    "# select columns needed for classifier\n",
    "bogo_data = bogos_per_person_demo.drop(columns=['offer received','offer viewed', 'offer completed', 'received'], axis=1)\n",
    "bogo_data.head()"
   ]
  },
  {
   "cell_type": "code",
   "execution_count": 19,
   "metadata": {},
   "outputs": [],
   "source": [
    "# pickle prepared dataframe\n",
    "bogo_data.to_pickle(\"../data/processed/bogo_data.pkl\") "
   ]
  }
 ],
 "metadata": {
  "kernelspec": {
   "display_name": "Python 3",
   "language": "python",
   "name": "python3"
  },
  "language_info": {
   "codemirror_mode": {
    "name": "ipython",
    "version": 3
   },
   "file_extension": ".py",
   "mimetype": "text/x-python",
   "name": "python",
   "nbconvert_exporter": "python",
   "pygments_lexer": "ipython3",
   "version": "3.7.11"
  }
 },
 "nbformat": 4,
 "nbformat_minor": 4
}
