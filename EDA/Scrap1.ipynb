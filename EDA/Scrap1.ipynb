{
 "cells": [
  {
   "cell_type": "markdown",
   "id": "9c0cf7e7-1105-4a99-a458-a5a58630fefa",
   "metadata": {},
   "source": [
    "### Scrap notebook"
   ]
  },
  {
   "cell_type": "code",
   "execution_count": 1,
   "id": "3bd38aea-6282-465f-93da-d96efa6ed0ce",
   "metadata": {},
   "outputs": [],
   "source": [
    "import pandas as pd\n",
    "import numpy as np\n",
    "import math\n",
    "import json\n",
    "import matplotlib.pyplot as plt\n",
    "\n",
    "import seaborn as sns\n",
    "from sklearn.preprocessing import OneHotEncoder\n",
    "from sklearn.compose import ColumnTransformer\n",
    "from sklearn.inspection import permutation_importance\n",
    "from sklearn.pipeline import Pipeline\n",
    "#from imblearn.pipeline import Pipeline\n",
    "\n",
    "\n",
    "from imblearn.over_sampling import RandomOverSampler \n",
    "from sklearn.model_selection import train_test_split\n",
    "from sklearn.compose import ColumnTransformer\n",
    "from sklearn.ensemble import RandomForestClassifier\n",
    "from sklearn.metrics import accuracy_score\n",
    "from sklearn.metrics import classification_report\n",
    "from imblearn.under_sampling import RandomUnderSampler\n",
    "\n",
    "\n",
    "sns.set_theme(style='darkgrid')\n",
    "# read in the json files\n",
    "portfolio = pd.read_json('../data/raw/portfolio.json', orient='records', lines=True)\n",
    "profile = pd.read_json('../data/raw/profile.json', orient='records', lines=True)\n",
    "transcript = pd.read_json('../data/raw/transcript.json', orient='records', lines=True)"
   ]
  },
  {
   "cell_type": "code",
   "execution_count": 2,
   "id": "ad68c80d-60b1-4562-b8f5-e1edb81b577f",
   "metadata": {},
   "outputs": [],
   "source": [
    "# Get offer ids from 'value' column, convert to float, and store in new column\n",
    "offer_ids = dict()\n",
    "indx = list(transcript[transcript['event']!='transaction'].index)\n",
    "\n",
    "for ind in indx: \n",
    "    offer_id = list(transcript.iloc[ind]['value'].values())[0]\n",
    "    offer_ids.update({ind:offer_id})\n",
    "    \n",
    "# Make dataframe from dictionary of index, offer_id strings     \n",
    "offer_id_df = pd.DataFrame.from_dict(offer_ids, orient='index', columns=['offer_ids'])\n",
    "\n",
    "# Concat transcript_mod and offer_id_df dataframes\n",
    "transcript_mod = pd.concat([transcript, offer_id_df], axis=1, ignore_index=False)\n",
    "\n",
    "# rename column 'id' as offer_ids to remain consistent with transcript df\n",
    "portfolio = portfolio.rename(columns={'id':'offer_ids'})\n",
    "\n",
    "# merge transcript and portfolio dataframes\n",
    "transcript_portfolio = transcript_mod.merge(portfolio[['offer_ids', 'offer_type']], on='offer_ids', how='left')\n",
    "\n",
    "# filter transcript_portfolio to get transcripts corresponding to BOGO offers \n",
    "bogo = transcript_portfolio[transcript_portfolio['offer_type']=='bogo']\n",
    "\n",
    "# count the number of events per person\n",
    "bogos_per_person = bogo.groupby('person')['event'].value_counts().unstack()\n",
    "\n",
    "# fill Nan in offer completed with 0 since these people did not complete any offer \n",
    "bogos_per_person['offer completed'].fillna(0, inplace=True)\n",
    "\n",
    "# add column with number of event\n",
    "bogos_per_person['completed_per_view'] = bogos_per_person['offer completed'] / bogos_per_person['offer viewed']\n",
    "\n",
    "# replace completed_per_view nans with 0 since these people did not view the offer. NEED TO THINK MORE ABOUT THIS\n",
    "bogos_per_person['completed_per_view'].fillna(0, inplace=True)"
   ]
  },
  {
   "cell_type": "code",
   "execution_count": 2,
   "id": "22ab0197-67d9-4c05-9592-1662f96db417",
   "metadata": {},
   "outputs": [
    {
     "ename": "NameError",
     "evalue": "name 'bogos_per_person' is not defined",
     "output_type": "error",
     "traceback": [
      "\u001b[0;31m---------------------------------------------------------------------------\u001b[0m",
      "\u001b[0;31mNameError\u001b[0m                                 Traceback (most recent call last)",
      "\u001b[0;32m<ipython-input-2-07dc44b3a83f>\u001b[0m in \u001b[0;36m<module>\u001b[0;34m\u001b[0m\n\u001b[1;32m     47\u001b[0m \u001b[0mprofile_subset\u001b[0m\u001b[0;34m.\u001b[0m\u001b[0mdrop\u001b[0m\u001b[0;34m(\u001b[0m\u001b[0;34m'index'\u001b[0m\u001b[0;34m,\u001b[0m \u001b[0maxis\u001b[0m\u001b[0;34m=\u001b[0m\u001b[0;36m1\u001b[0m\u001b[0;34m,\u001b[0m \u001b[0minplace\u001b[0m\u001b[0;34m=\u001b[0m\u001b[0;32mTrue\u001b[0m\u001b[0;34m)\u001b[0m\u001b[0;34m\u001b[0m\u001b[0;34m\u001b[0m\u001b[0m\n\u001b[1;32m     48\u001b[0m \u001b[0;34m\u001b[0m\u001b[0m\n\u001b[0;32m---> 49\u001b[0;31m \u001b[0mbogos_per_person_demo\u001b[0m \u001b[0;34m=\u001b[0m \u001b[0mbogos_per_person\u001b[0m\u001b[0;34m.\u001b[0m\u001b[0mmerge\u001b[0m\u001b[0;34m(\u001b[0m\u001b[0mprofile_subset\u001b[0m\u001b[0;34m,\u001b[0m \u001b[0mleft_index\u001b[0m\u001b[0;34m=\u001b[0m\u001b[0;32mTrue\u001b[0m\u001b[0;34m,\u001b[0m \u001b[0mright_on\u001b[0m\u001b[0;34m=\u001b[0m\u001b[0;34m'person'\u001b[0m\u001b[0;34m,\u001b[0m \u001b[0mhow\u001b[0m\u001b[0;34m=\u001b[0m\u001b[0;34m'left'\u001b[0m\u001b[0;34m)\u001b[0m\u001b[0;34m.\u001b[0m\u001b[0mset_index\u001b[0m\u001b[0;34m(\u001b[0m\u001b[0;34m'person'\u001b[0m\u001b[0;34m)\u001b[0m\u001b[0;34m\u001b[0m\u001b[0;34m\u001b[0m\u001b[0m\n\u001b[0m\u001b[1;32m     50\u001b[0m \u001b[0;34m\u001b[0m\u001b[0m\n\u001b[1;32m     51\u001b[0m \u001b[0mbogos_per_person_demo\u001b[0m\u001b[0;34m.\u001b[0m\u001b[0mdropna\u001b[0m\u001b[0;34m(\u001b[0m\u001b[0msubset\u001b[0m\u001b[0;34m=\u001b[0m\u001b[0;34m[\u001b[0m\u001b[0;34m'age_group'\u001b[0m\u001b[0;34m]\u001b[0m\u001b[0;34m,\u001b[0m \u001b[0minplace\u001b[0m\u001b[0;34m=\u001b[0m\u001b[0;32mTrue\u001b[0m\u001b[0;34m)\u001b[0m\u001b[0;34m\u001b[0m\u001b[0;34m\u001b[0m\u001b[0m\n",
      "\u001b[0;31mNameError\u001b[0m: name 'bogos_per_person' is not defined"
     ]
    }
   ],
   "source": [
    "# rename column 'id' to 'person' to remain consistent with transcript\n",
    "profile = profile.rename(columns={'id':'person'})\n",
    "# Remove people was ages > 99\n",
    "profile = profile[profile['age'] <= 99]\n",
    "\n",
    "# Remove people with income > 1000000\n",
    "profile = profile[profile['income'] < 1000000.0]\n",
    "\n",
    "# Binarise age based on criteria old=1, young=0\n",
    "def age_group(age):\n",
    "    if age < 25:\n",
    "        return '< 25 years'\n",
    "    \n",
    "    if age < 35:\n",
    "        return '25 - 35 years'\n",
    "    \n",
    "    if age < 45:\n",
    "        return '36 - 45 years'\n",
    "    \n",
    "    if age < 66: \n",
    "        return '46 - 66 years'\n",
    "    \n",
    "    else: \n",
    "        return '67+ years'\n",
    "\n",
    "profile['age_group'] = profile['age'].apply(lambda x:age_group(x))\n",
    "\n",
    "# Binarise income based on criteria rich=1, poor=0\n",
    "def income_group(income):\n",
    "    if income < 50001: \n",
    "        return 'low income'\n",
    "    if income < 70001:\n",
    "        return 'med - low income'\n",
    "    if income < 90001:\n",
    "        return 'high - med income'\n",
    "    else:\n",
    "        return 'high income'\n",
    "\n",
    "profile['income_group'] = profile['income'].apply(lambda x:income_group(x))\n",
    "\n",
    "# select columns needed for training model\n",
    "profile_subset = profile[['person','income_group','age_group', 'gender']]\n",
    "\n",
    "# reset index to allow ease concatanation with transformed ohe data\n",
    "profile_subset = profile_subset.reset_index()\n",
    "\n",
    "profile_subset.drop('index', axis=1, inplace=True)\n",
    "\n",
    "bogos_per_person_demo = bogos_per_person.merge(profile_subset, left_index=True, right_on='person', how='left').set_index('person')\n",
    "\n",
    "bogos_per_person_demo.dropna(subset=['age_group'], inplace=True)"
   ]
  },
  {
   "cell_type": "markdown",
   "id": "1eec21b9-16ec-4d91-a81b-6ed15c847be0",
   "metadata": {},
   "source": [
    "If completed_per_view > 1, replace value with 1, since they would have completed more items than they viewed but only the ones they viewed should count. "
   ]
  },
  {
   "cell_type": "code",
   "execution_count": 4,
   "id": "89fadbd2-cc11-4295-a359-919650867556",
   "metadata": {},
   "outputs": [],
   "source": [
    "bogos_per_person_demo['completed_per_view'] = np.where((bogos_per_person_demo['completed_per_view'] > 1),1, bogos_per_person_demo['completed_per_view'])"
   ]
  },
  {
   "cell_type": "markdown",
   "id": "c3325d12-1ca0-41e6-870f-3a05cf4db889",
   "metadata": {},
   "source": [
    "If completed_per_view > 0.5 then these people respond to offers. \n",
    "If completed_per_view <= 0.5, then these people do not respond to offers.\n",
    "Add column with responds 1 for > 0.5, 0 for <=0.5"
   ]
  },
  {
   "cell_type": "code",
   "execution_count": 5,
   "id": "4ba5dbea-d507-4df6-aa76-56a6fdacc79c",
   "metadata": {},
   "outputs": [],
   "source": [
    "def setting_response(cpv):\n",
    "    if cpv <= 0.5: \n",
    "        return 0 \n",
    "    else: \n",
    "        return 1\n",
    "    \n",
    "bogos_per_person_demo['responds'] = bogos_per_person_demo['completed_per_view'].apply(lambda x:setting_response(x))"
   ]
  },
  {
   "cell_type": "code",
   "execution_count": 6,
   "id": "a1068728-e6ef-4661-aaaa-4d38bec04960",
   "metadata": {},
   "outputs": [
    {
     "data": {
      "text/plain": [
       "1    6927\n",
       "0    6142\n",
       "Name: responds, dtype: int64"
      ]
     },
     "execution_count": 6,
     "metadata": {},
     "output_type": "execute_result"
    }
   ],
   "source": [
    "bogos_per_person_demo['responds'].value_counts()"
   ]
  },
  {
   "cell_type": "code",
   "execution_count": 7,
   "id": "cc87302d-4b4f-4b8a-9bce-fcf0ced782a4",
   "metadata": {},
   "outputs": [],
   "source": [
    "bogos_per_person_demo.drop(columns=['offer completed', 'offer received', 'offer viewed', 'completed_per_view'], axis=1, inplace=True)"
   ]
  },
  {
   "cell_type": "code",
   "execution_count": 8,
   "id": "a2b55611-032d-4102-97be-d6c10ab823e8",
   "metadata": {},
   "outputs": [
    {
     "data": {
      "text/plain": [
       "income_group    0\n",
       "age_group       0\n",
       "gender          0\n",
       "responds        0\n",
       "dtype: int64"
      ]
     },
     "execution_count": 8,
     "metadata": {},
     "output_type": "execute_result"
    }
   ],
   "source": [
    "bogos_per_person_demo.isna().sum()"
   ]
  },
  {
   "cell_type": "markdown",
   "id": "cc781829-24f4-4c0a-9685-0a1534c7ebdf",
   "metadata": {},
   "source": [
    "Use pipeline and include onehotencoding in pipeline"
   ]
  },
  {
   "cell_type": "code",
   "execution_count": 9,
   "id": "ce9ea7c5-b47c-4b6c-b08b-919ba0408539",
   "metadata": {},
   "outputs": [],
   "source": [
    "# THE FOLLOWING CELLS WORK BUT THE CELLS ABOVE WERE EDITED SO NEED TO ADJUST THIS\n",
    "# intantiate OHE\n",
    "categorical_encoder = OneHotEncoder(handle_unknown='ignore')\n",
    "    \n",
    "# List categorical variables in to be OHE\n",
    "categorical_columns = ['income_group','age_group','gender']\n",
    "\n",
    "preprocessing = ColumnTransformer(\n",
    "        [\n",
    "            ('cat', categorical_encoder, categorical_columns),\n",
    "        ]\n",
    "    )\n"
   ]
  },
  {
   "cell_type": "code",
   "execution_count": 10,
   "id": "224424c9-59d9-4b3b-b6b8-77e0d488441a",
   "metadata": {},
   "outputs": [],
   "source": [
    "model_rf = Pipeline(\n",
    "    [\n",
    "        ('preprocess', preprocessing),\n",
    "        #('oversample', ros),\n",
    "        ('classifier', RandomForestClassifier())\n",
    "    ]\n",
    "    \n",
    ")"
   ]
  },
  {
   "cell_type": "code",
   "execution_count": 11,
   "id": "9abb7418-bb1f-43bc-901f-f08c61c1114c",
   "metadata": {},
   "outputs": [],
   "source": [
    "X = bogos_per_person_demo.drop('responds', axis=1)\n",
    "y = bogos_per_person_demo['responds']\n",
    "\n",
    "## Do train test split, see results \n",
    "X_train, X_test, y_train, y_test = train_test_split(X, y, test_size=0.2, random_state=42);"
   ]
  },
  {
   "cell_type": "code",
   "execution_count": 37,
   "id": "7a8c5814-ccca-4374-a125-725ab57f0347",
   "metadata": {
    "tags": []
   },
   "outputs": [],
   "source": [
    "model_rf.fit(X_train, y_train)\n",
    "y_pred = model_rf.predict(X_test)\n",
    "accuracy = accuracy_score(y_test, y_pred)\n",
    "report = classification_report(y_test, y_pred, target_names=['True', 'False'])"
   ]
  },
  {
   "cell_type": "code",
   "execution_count": 38,
   "id": "6ced7528-78e1-430d-aebd-bde08243ec21",
   "metadata": {
    "tags": []
   },
   "outputs": [
    {
     "name": "stdout",
     "output_type": "stream",
     "text": [
      "0.631981637337414\n",
      "              precision    recall  f1-score   support\n",
      "\n",
      "        True       0.63      0.59      0.61      1270\n",
      "       False       0.63      0.67      0.65      1344\n",
      "\n",
      "    accuracy                           0.63      2614\n",
      "   macro avg       0.63      0.63      0.63      2614\n",
      "weighted avg       0.63      0.63      0.63      2614\n",
      "\n"
     ]
    }
   ],
   "source": [
    "print(accuracy)\n",
    "print(report)"
   ]
  },
  {
   "cell_type": "code",
   "execution_count": 14,
   "id": "bf0bbd48-3ad5-4cb0-aa62-348f2a7b4014",
   "metadata": {},
   "outputs": [
    {
     "data": {
      "text/plain": [
       "array(['income_group_high - med income', 'income_group_high income',\n",
       "       'income_group_low income', 'income_group_med - low income',\n",
       "       'age_group_25 - 35 years', 'age_group_36 - 45 years',\n",
       "       'age_group_46 - 66 years', 'age_group_67+ years',\n",
       "       'age_group_< 25 years', 'gender_F', 'gender_M', 'gender_O'],\n",
       "      dtype=object)"
      ]
     },
     "execution_count": 14,
     "metadata": {},
     "output_type": "execute_result"
    }
   ],
   "source": [
    "ohe = model.named_steps['preprocess'].named_transformers_['cat']\n",
    "feature_names = ohe.get_feature_names_out(categorical_columns)\n",
    "feature_names"
   ]
  },
  {
   "cell_type": "code",
   "execution_count": 15,
   "id": "997ff216-70b1-4b80-bbcf-3d8e3aa558ef",
   "metadata": {
    "collapsed": true,
    "jupyter": {
     "outputs_hidden": true
    },
    "tags": []
   },
   "outputs": [
    {
     "data": {
      "image/png": "[encoded data removed]",
      "text/plain": [
       "<Figure size 576x720 with 1 Axes>"
      ]
     },
     "metadata": {},
     "output_type": "display_data"
    }
   ],
   "source": [
    "tree_feature_importances = model.named_steps['classifier'].feature_importances_\n",
    "\n",
    "sorted_idx = tree_feature_importances.argsort()\n",
    "    \n",
    "y_ticks = np.arange(0, len(feature_names))\n",
    "    \n",
    "    # Plot feature importance\n",
    "sns.set_style('darkgrid')\n",
    "fig, ax = plt.subplots(figsize=(8,10))\n",
    "ax.barh(y_ticks, tree_feature_importances[sorted_idx])\n",
    "ax.set_yticks(y_ticks)\n",
    "ax.set_yticklabels(feature_names[sorted_idx], color='black', fontsize=12)\n",
    "ax.set_title('RandomForest feature importances', color='black', fontsize=12)\n",
    "plt.xticks(color='black', fontsize=12)\n",
    "fig.tight_layout()\n",
    "plt.show()"
   ]
  },
  {
   "cell_type": "code",
   "execution_count": 17,
   "id": "c568b465-1250-4df3-87d3-48846572e685",
   "metadata": {
    "tags": []
   },
   "outputs": [
    {
     "data": {
      "image/png": "[encoded data removed]",
      "text/plain": [
       "<Figure size 360x288 with 1 Axes>"
      ]
     },
     "metadata": {},
     "output_type": "display_data"
    }
   ],
   "source": [
    "result = permutation_importance(model, X_test, y_test, n_repeats=30, random_state=42, n_jobs=2)\n",
    "sorted_idx = result.importances_mean.argsort()\n",
    "\n",
    "    # Plot permutation importance\n",
    "sns.set_style('darkgrid')\n",
    "fig, ax = plt.subplots(figsize=(5,4))\n",
    "ax.boxplot(result.importances[sorted_idx].T, vert=True, labels=X_test.columns[sorted_idx], patch_artist=True)\n",
    "    #ax.set_ylabel('Relative feature importance', color='black', fontsize=12)\n",
    "ax.set_ylabel('Permutation feature importance', color='black', fontsize=12)\n",
    "plt.xticks(color='black', fontsize=12)\n",
    "ax.set_xticklabels(['income_group','age_group','gender'], color='black', fontsize=12)\n",
    "plt.yticks(color='black', fontsize=12)\n",
    "fig.tight_layout()\n",
    "plt.show()"
   ]
  },
  {
   "cell_type": "code",
   "execution_count": 13,
   "id": "f6895f58-c253-439c-a41c-c5c2bc1222b5",
   "metadata": {},
   "outputs": [],
   "source": [
    "from sklearn.svm import SVC"
   ]
  },
  {
   "cell_type": "code",
   "execution_count": 14,
   "id": "b6203b71-0dff-40e9-9a89-8ac3ad332b2c",
   "metadata": {},
   "outputs": [],
   "source": [
    "model_svc = Pipeline(\n",
    "    [\n",
    "        ('preprocess', preprocessing),\n",
    "        #('oversample', ros),\n",
    "        ('classifier', SVC())\n",
    "    ]\n",
    "    \n",
    ")"
   ]
  },
  {
   "cell_type": "code",
   "execution_count": 15,
   "id": "dc406932-f7ad-4dd9-953f-ae54353780c7",
   "metadata": {},
   "outputs": [],
   "source": [
    "model_svc.fit(X_train, y_train)\n",
    "y_pred = model_svc.predict(X_test)\n",
    "accuracy = accuracy_score(y_test, y_pred)\n",
    "report = classification_report(y_test, y_pred, target_names=['True', 'False'])"
   ]
  },
  {
   "cell_type": "code",
   "execution_count": 16,
   "id": "87f57196-b869-407f-88d9-3c9fd38fde73",
   "metadata": {},
   "outputs": [
    {
     "name": "stdout",
     "output_type": "stream",
     "text": [
      "0.6308339709257842\n",
      "              precision    recall  f1-score   support\n",
      "\n",
      "        True       0.62      0.61      0.62      1270\n",
      "       False       0.64      0.65      0.64      1344\n",
      "\n",
      "    accuracy                           0.63      2614\n",
      "   macro avg       0.63      0.63      0.63      2614\n",
      "weighted avg       0.63      0.63      0.63      2614\n",
      "\n"
     ]
    }
   ],
   "source": [
    "print(accuracy)\n",
    "print(report)"
   ]
  },
  {
   "cell_type": "code",
   "execution_count": 19,
   "id": "f9e89872-51da-4e54-9f91-d04a85de3817",
   "metadata": {},
   "outputs": [
    {
     "name": "stdout",
     "output_type": "stream",
     "text": [
      "0.6300688599846977\n",
      "              precision    recall  f1-score   support\n",
      "\n",
      "        True       0.62      0.61      0.62      1270\n",
      "       False       0.64      0.65      0.64      1344\n",
      "\n",
      "    accuracy                           0.63      2614\n",
      "   macro avg       0.63      0.63      0.63      2614\n",
      "weighted avg       0.63      0.63      0.63      2614\n",
      "\n"
     ]
    }
   ],
   "source": [
    "from sklearn.svm import LinearSVC\n",
    "model_lsvc = Pipeline(\n",
    "    [\n",
    "        ('preprocess', preprocessing),\n",
    "        #('oversample', ros),\n",
    "        ('classifier', LinearSVC())\n",
    "    ]\n",
    "    \n",
    ")\n",
    "model_lsvc.fit(X_train, y_train)\n",
    "y_pred = model_lsvc.predict(X_test)\n",
    "accuracy = accuracy_score(y_test, y_pred)\n",
    "report = classification_report(y_test, y_pred, target_names=['True', 'False'])\n",
    "\n",
    "print(accuracy)\n",
    "print(report)"
   ]
  },
  {
   "cell_type": "code",
   "execution_count": 14,
   "id": "851978d6-deab-4acf-8a37-1f4e449b1e9c",
   "metadata": {},
   "outputs": [
    {
     "name": "stdout",
     "output_type": "stream",
     "text": [
      "0.6300688599846977\n",
      "              precision    recall  f1-score   support\n",
      "\n",
      "        True       0.62      0.61      0.62      1270\n",
      "       False       0.64      0.65      0.64      1344\n",
      "\n",
      "    accuracy                           0.63      2614\n",
      "   macro avg       0.63      0.63      0.63      2614\n",
      "weighted avg       0.63      0.63      0.63      2614\n",
      "\n"
     ]
    }
   ],
   "source": [
    "from sklearn.ensemble import AdaBoostClassifier\n",
    "model_adb = Pipeline(\n",
    "    [\n",
    "        ('preprocess', preprocessing),\n",
    "        #('oversample', ros),\n",
    "        ('classifier', AdaBoostClassifier())\n",
    "    ]\n",
    "    \n",
    ")\n",
    "model_adb.fit(X_train, y_train)\n",
    "y_pred = model_adb.predict(X_test)\n",
    "accuracy = accuracy_score(y_test, y_pred)\n",
    "report = classification_report(y_test, y_pred, target_names=['True', 'False'])\n",
    "\n",
    "print(accuracy)\n",
    "print(report)"
   ]
  },
  {
   "cell_type": "markdown",
   "id": "770ce71c-5027-4823-a968-cb25bd534448",
   "metadata": {},
   "source": [
    "Tune random forest classifier \n",
    "Tune svm \n",
    "Tune adaboostclassifier\n",
    "\n",
    "Look into including informational and discount to produce multioutput classifier like disaster response project"
   ]
  },
  {
   "cell_type": "code",
   "execution_count": 17,
   "id": "d9309ca0-9fdd-4d42-bdf5-735a282e418e",
   "metadata": {},
   "outputs": [],
   "source": [
    "# Get offer ids from 'value' column, convert to float, and store in new column\n",
    "offer_ids = dict()\n",
    "indx = list(transcript[transcript['event']!='transaction'].index)\n",
    "\n",
    "for ind in indx: \n",
    "    offer_id = list(transcript.iloc[ind]['value'].values())[0]\n",
    "    offer_ids.update({ind:offer_id})\n",
    "    \n",
    "# Make dataframe from dictionary of index, offer_id strings     \n",
    "offer_id_df = pd.DataFrame.from_dict(offer_ids, orient='index', columns=['offer_ids'])\n",
    "\n",
    "# Concat transcript_mod and offer_id_df dataframes\n",
    "transcript_mod = pd.concat([transcript, offer_id_df], axis=1, ignore_index=False)\n",
    "\n",
    "# rename column 'id' as offer_ids to remain consistent with transcript df\n",
    "portfolio = portfolio.rename(columns={'id':'offer_ids'})\n",
    "\n",
    "# merge transcript and portfolio dataframes\n",
    "transcript_portfolio = transcript_mod.merge(portfolio[['offer_ids', 'offer_type']], on='offer_ids', how='left')\n",
    "\n",
    "offers = ['bogo', 'discount']\n",
    "# filter transcript_portfolio to get transcripts corresponding to BOGO offers \n",
    "offer = transcript_portfolio[transcript_portfolio['offer_type'].isin(offers)]\n",
    "\n",
    "# count the number of events per person\n",
    "#bogos_per_person = bogo.groupby('person')['event'].value_counts().unstack()\n",
    "\n",
    "# fill Nan in offer completed with 0 since these people did not complete any offer \n",
    "#bogos_per_person['offer completed'].fillna(0, inplace=True)\n",
    "\n",
    "# add column with number of event\n",
    "#bogos_per_person['completed_per_view'] = bogos_per_person['offer completed'] / bogos_per_person['offer viewed']\n",
    "\n",
    "# replace completed_per_view nans with 0 since these people did not view the offer. NEED TO THINK MORE ABOUT THIS\n",
    "#bogos_per_person['completed_per_view'].fillna(0, inplace=True)"
   ]
  },
  {
   "cell_type": "code",
   "execution_count": 18,
   "id": "b195d51e-1c81-4206-9214-15dc6efb2daa",
   "metadata": {},
   "outputs": [
    {
     "name": "stderr",
     "output_type": "stream",
     "text": [
      "/Users/SamaraSadeek/anaconda3/lib/python3.7/site-packages/pandas/core/frame.py:4913: SettingWithCopyWarning: \n",
      "A value is trying to be set on a copy of a slice from a DataFrame\n",
      "\n",
      "See the caveats in the documentation: https://pandas.pydata.org/pandas-docs/stable/user_guide/indexing.html#returning-a-view-versus-a-copy\n",
      "  errors=errors,\n"
     ]
    }
   ],
   "source": [
    "offer.drop(['value','time', 'offer_ids'], axis=1, inplace=True)"
   ]
  },
  {
   "cell_type": "code",
   "execution_count": 19,
   "id": "c2ced945-4e42-48be-8b88-0de0a46ab8b5",
   "metadata": {},
   "outputs": [],
   "source": [
    "offer_per_person = offer.groupby(['person','offer_type'])['event'].value_counts().unstack()\n",
    "\n",
    "offer_per_person['offer completed'].fillna(0, inplace=True)"
   ]
  },
  {
   "cell_type": "code",
   "execution_count": 20,
   "id": "a23ed0c3-8f18-4ba5-a842-a10506be26ae",
   "metadata": {},
   "outputs": [],
   "source": [
    "offer_per_person['completed_per_view'] = offer_per_person['offer completed']/ offer_per_person['offer viewed']"
   ]
  },
  {
   "cell_type": "code",
   "execution_count": 21,
   "id": "e7a4f769-ab1c-4ef0-96e0-d7f582f07f9c",
   "metadata": {},
   "outputs": [],
   "source": [
    "offer_per_person['completed_per_view'].fillna(0, inplace=True)"
   ]
  },
  {
   "cell_type": "code",
   "execution_count": 22,
   "id": "7d82daf8-aa8d-4844-9f6c-be2bd208f610",
   "metadata": {},
   "outputs": [],
   "source": [
    "def setting_response(cpv):\n",
    "    if cpv <= 0.5: \n",
    "        return 0 \n",
    "    else: \n",
    "        return 1\n",
    "    \n",
    "offer_per_person['responds'] = offer_per_person['completed_per_view'].apply(lambda x:setting_response(x))"
   ]
  },
  {
   "cell_type": "code",
   "execution_count": 23,
   "id": "d1c95670-72b0-415e-8d7b-b46e77859114",
   "metadata": {},
   "outputs": [],
   "source": [
    "offer_df = offer_per_person.unstack()"
   ]
  },
  {
   "cell_type": "code",
   "execution_count": 24,
   "id": "27adc08a-b3c5-4e9f-8436-0576e7ed7351",
   "metadata": {},
   "outputs": [],
   "source": [
    "offer_df = offer_df['responds']"
   ]
  },
  {
   "cell_type": "code",
   "execution_count": 25,
   "id": "a906a6d8-569e-42a2-94f1-c15970e14713",
   "metadata": {},
   "outputs": [],
   "source": [
    "offer_df.dropna(inplace=True)"
   ]
  },
  {
   "cell_type": "code",
   "execution_count": 26,
   "id": "2281de5f-bc2a-407c-9329-141bcfc0b0a8",
   "metadata": {},
   "outputs": [],
   "source": [
    "offer_df = offer_df.reset_index()"
   ]
  },
  {
   "cell_type": "code",
   "execution_count": 27,
   "id": "db5ec642-473f-4b82-a887-8921e2e9a831",
   "metadata": {},
   "outputs": [
    {
     "data": {
      "text/plain": [
       "1.0    7148\n",
       "0.0    5861\n",
       "Name: discount, dtype: int64"
      ]
     },
     "execution_count": 27,
     "metadata": {},
     "output_type": "execute_result"
    }
   ],
   "source": [
    "offer_df['discount'].value_counts()"
   ]
  },
  {
   "cell_type": "code",
   "execution_count": 28,
   "id": "5ff54e5d-28b2-4925-ab57-fdeac43f5d50",
   "metadata": {},
   "outputs": [
    {
     "data": {
      "text/html": [
       "<div>\n",
       "<style scoped>\n",
       "    .dataframe tbody tr th:only-of-type {\n",
       "        vertical-align: middle;\n",
       "    }\n",
       "\n",
       "    .dataframe tbody tr th {\n",
       "        vertical-align: top;\n",
       "    }\n",
       "\n",
       "    .dataframe thead th {\n",
       "        text-align: right;\n",
       "    }\n",
       "</style>\n",
       "<table border=\"1\" class=\"dataframe\">\n",
       "  <thead>\n",
       "    <tr style=\"text-align: right;\">\n",
       "      <th></th>\n",
       "      <th>bogo</th>\n",
       "      <th>discount</th>\n",
       "      <th>income_group</th>\n",
       "      <th>age_group</th>\n",
       "      <th>gender</th>\n",
       "    </tr>\n",
       "    <tr>\n",
       "      <th>person</th>\n",
       "      <th></th>\n",
       "      <th></th>\n",
       "      <th></th>\n",
       "      <th></th>\n",
       "      <th></th>\n",
       "    </tr>\n",
       "  </thead>\n",
       "  <tbody>\n",
       "    <tr>\n",
       "      <th>0009655768c64bdeb2e877511632db8f</th>\n",
       "      <td>1.0</td>\n",
       "      <td>1.0</td>\n",
       "      <td>high - med income</td>\n",
       "      <td>25 - 35 years</td>\n",
       "      <td>M</td>\n",
       "    </tr>\n",
       "    <tr>\n",
       "      <th>0011e0d4e6b944f998e987f904e8c1e5</th>\n",
       "      <td>1.0</td>\n",
       "      <td>1.0</td>\n",
       "      <td>med - low income</td>\n",
       "      <td>36 - 45 years</td>\n",
       "      <td>O</td>\n",
       "    </tr>\n",
       "    <tr>\n",
       "      <th>0020c2b971eb4e9188eac86d93036a77</th>\n",
       "      <td>1.0</td>\n",
       "      <td>1.0</td>\n",
       "      <td>high - med income</td>\n",
       "      <td>46 - 66 years</td>\n",
       "      <td>F</td>\n",
       "    </tr>\n",
       "    <tr>\n",
       "      <th>0020ccbbb6d84e358d3414a3ff76cffd</th>\n",
       "      <td>1.0</td>\n",
       "      <td>1.0</td>\n",
       "      <td>med - low income</td>\n",
       "      <td>&lt; 25 years</td>\n",
       "      <td>F</td>\n",
       "    </tr>\n",
       "    <tr>\n",
       "      <th>004b041fbfe44859945daa2c7f79ee64</th>\n",
       "      <td>1.0</td>\n",
       "      <td>1.0</td>\n",
       "      <td>high - med income</td>\n",
       "      <td>46 - 66 years</td>\n",
       "      <td>F</td>\n",
       "    </tr>\n",
       "    <tr>\n",
       "      <th>...</th>\n",
       "      <td>...</td>\n",
       "      <td>...</td>\n",
       "      <td>...</td>\n",
       "      <td>...</td>\n",
       "      <td>...</td>\n",
       "    </tr>\n",
       "    <tr>\n",
       "      <th>fff29fb549084123bd046dbc5ceb4faa</th>\n",
       "      <td>1.0</td>\n",
       "      <td>1.0</td>\n",
       "      <td>high income</td>\n",
       "      <td>46 - 66 years</td>\n",
       "      <td>F</td>\n",
       "    </tr>\n",
       "    <tr>\n",
       "      <th>fff3ba4757bd42088c044ca26d73817a</th>\n",
       "      <td>1.0</td>\n",
       "      <td>1.0</td>\n",
       "      <td>high - med income</td>\n",
       "      <td>67+ years</td>\n",
       "      <td>F</td>\n",
       "    </tr>\n",
       "    <tr>\n",
       "      <th>fff7576017104bcc8677a8d63322b5e1</th>\n",
       "      <td>0.0</td>\n",
       "      <td>1.0</td>\n",
       "      <td>high - med income</td>\n",
       "      <td>67+ years</td>\n",
       "      <td>M</td>\n",
       "    </tr>\n",
       "    <tr>\n",
       "      <th>fff8957ea8b240a6b5e634b6ee8eafcf</th>\n",
       "      <td>0.0</td>\n",
       "      <td>0.0</td>\n",
       "      <td>med - low income</td>\n",
       "      <td>67+ years</td>\n",
       "      <td>M</td>\n",
       "    </tr>\n",
       "    <tr>\n",
       "      <th>ffff82501cea40309d5fdd7edcca4a07</th>\n",
       "      <td>1.0</td>\n",
       "      <td>1.0</td>\n",
       "      <td>med - low income</td>\n",
       "      <td>46 - 66 years</td>\n",
       "      <td>F</td>\n",
       "    </tr>\n",
       "  </tbody>\n",
       "</table>\n",
       "<p>13009 rows × 5 columns</p>\n",
       "</div>"
      ],
      "text/plain": [
       "                                  bogo  discount       income_group  \\\n",
       "person                                                                \n",
       "0009655768c64bdeb2e877511632db8f   1.0       1.0  high - med income   \n",
       "0011e0d4e6b944f998e987f904e8c1e5   1.0       1.0   med - low income   \n",
       "0020c2b971eb4e9188eac86d93036a77   1.0       1.0  high - med income   \n",
       "0020ccbbb6d84e358d3414a3ff76cffd   1.0       1.0   med - low income   \n",
       "004b041fbfe44859945daa2c7f79ee64   1.0       1.0  high - med income   \n",
       "...                                ...       ...                ...   \n",
       "fff29fb549084123bd046dbc5ceb4faa   1.0       1.0        high income   \n",
       "fff3ba4757bd42088c044ca26d73817a   1.0       1.0  high - med income   \n",
       "fff7576017104bcc8677a8d63322b5e1   0.0       1.0  high - med income   \n",
       "fff8957ea8b240a6b5e634b6ee8eafcf   0.0       0.0   med - low income   \n",
       "ffff82501cea40309d5fdd7edcca4a07   1.0       1.0   med - low income   \n",
       "\n",
       "                                      age_group gender  \n",
       "person                                                  \n",
       "0009655768c64bdeb2e877511632db8f  25 - 35 years      M  \n",
       "0011e0d4e6b944f998e987f904e8c1e5  36 - 45 years      O  \n",
       "0020c2b971eb4e9188eac86d93036a77  46 - 66 years      F  \n",
       "0020ccbbb6d84e358d3414a3ff76cffd     < 25 years      F  \n",
       "004b041fbfe44859945daa2c7f79ee64  46 - 66 years      F  \n",
       "...                                         ...    ...  \n",
       "fff29fb549084123bd046dbc5ceb4faa  46 - 66 years      F  \n",
       "fff3ba4757bd42088c044ca26d73817a      67+ years      F  \n",
       "fff7576017104bcc8677a8d63322b5e1      67+ years      M  \n",
       "fff8957ea8b240a6b5e634b6ee8eafcf      67+ years      M  \n",
       "ffff82501cea40309d5fdd7edcca4a07  46 - 66 years      F  \n",
       "\n",
       "[13009 rows x 5 columns]"
      ]
     },
     "execution_count": 28,
     "metadata": {},
     "output_type": "execute_result"
    }
   ],
   "source": [
    "offer_per_person_demo = offer_df.merge(profile_subset, left_on='person',right_on='person', how='left').set_index('person')\n",
    "\n",
    "offer_per_person_demo"
   ]
  },
  {
   "cell_type": "code",
   "execution_count": 29,
   "id": "0177ea34-e8f7-4ca7-95c7-25764bf6b421",
   "metadata": {
    "collapsed": true,
    "jupyter": {
     "outputs_hidden": true
    },
    "tags": []
   },
   "outputs": [
    {
     "ename": "IndentationError",
     "evalue": "unexpected indent (<ipython-input-29-1c790d99d491>, line 2)",
     "output_type": "error",
     "traceback": [
      "\u001b[0;36m  File \u001b[0;32m\"<ipython-input-29-1c790d99d491>\"\u001b[0;36m, line \u001b[0;32m2\u001b[0m\n\u001b[0;31m    clf = RandomForestClassifier(class_weight={0: 0.4, 1: 1})\u001b[0m\n\u001b[0m    ^\u001b[0m\n\u001b[0;31mIndentationError\u001b[0m\u001b[0;31m:\u001b[0m unexpected indent\n"
     ]
    }
   ],
   "source": [
    "parameters = {'n_estimators': [140,142,145], 'criterion':('gini', 'entropy'), 'max_features':['auto', 'sqrt']}\n",
    "clf = RandomForestClassifier(class_weight={0: 0.4, 1: 1})\n",
    "cv = GridSearchCV(clf, parameters)"
   ]
  },
  {
   "cell_type": "code",
   "execution_count": 30,
   "id": "36fc8ca9-1d4d-43a6-a5d5-ec8dedc35853",
   "metadata": {},
   "outputs": [],
   "source": [
    "X = offer_per_person_demo.drop(['bogo', 'discount'], axis=1)\n",
    "y = offer_per_person_demo[['bogo', 'discount']]\n",
    "\n",
    "## Do train test split, see results \n",
    "X_train, X_test, y_train, y_test = train_test_split(X, y, test_size=0.2, random_state=42);"
   ]
  },
  {
   "cell_type": "code",
   "execution_count": 60,
   "id": "f7986a6f-c686-42b8-906d-de292cda0364",
   "metadata": {},
   "outputs": [
    {
     "name": "stdout",
     "output_type": "stream",
     "text": [
      "0.46041506533435816\n",
      "              precision    recall  f1-score   support\n",
      "\n",
      "        bogo       0.64      0.64      0.64      1215\n",
      "    discount       0.64      0.81      0.72      1437\n",
      "\n",
      "   micro avg       0.64      0.73      0.68      2652\n",
      "   macro avg       0.64      0.73      0.68      2652\n",
      "weighted avg       0.64      0.73      0.68      2652\n",
      " samples avg       0.44      0.48      0.44      2652\n",
      "\n"
     ]
    },
    {
     "name": "stderr",
     "output_type": "stream",
     "text": [
      "/Users/SamaraSadeek/anaconda3/lib/python3.7/site-packages/sklearn/metrics/_classification.py:1318: UndefinedMetricWarning: Precision and F-score are ill-defined and being set to 0.0 in samples with no predicted labels. Use `zero_division` parameter to control this behavior.\n",
      "  _warn_prf(average, modifier, msg_start, len(result))\n",
      "/Users/SamaraSadeek/anaconda3/lib/python3.7/site-packages/sklearn/metrics/_classification.py:1318: UndefinedMetricWarning: Recall and F-score are ill-defined and being set to 0.0 in samples with no true labels. Use `zero_division` parameter to control this behavior.\n",
      "  _warn_prf(average, modifier, msg_start, len(result))\n"
     ]
    }
   ],
   "source": [
    "from sklearn.multioutput import MultiOutputClassifier\n",
    "from sklearn.svm import LinearSVC\n",
    "from sklearn.ensemble import RandomForestClassifier\n",
    "from sklearn.model_selection import GridSearchCV\n",
    "\n",
    "#rus = RandomUnderSampler()\n",
    "clf = MultiOutputClassifier(RandomForestClassifier())\n",
    "\n",
    "pipeline = Pipeline(\n",
    "    [\n",
    "        ('preprocess', preprocessing),\n",
    "        #('undersample', rus),\n",
    "        ('classifier', clf),\n",
    "    ]\n",
    "    \n",
    ")\n",
    "\n",
    "parameters = {'classifier__estimator__n_estimators': [120, 140, 160], 'classifier__estimator__criterion':('gini', 'entropy')}\n",
    "\n",
    "cv = GridSearchCV(pipeline, param_grid=parameters)\n",
    "\n",
    "\n",
    "cv.fit(X_train, y_train)\n",
    "y_pred = cv.predict(X_test)\n",
    "accuracy = accuracy_score(y_test, y_pred)\n",
    "report = classification_report(y_test, y_pred, target_names=['bogo', 'discount'])\n",
    "\n",
    "print(accuracy)\n",
    "print(report)"
   ]
  },
  {
   "cell_type": "code",
   "execution_count": 61,
   "id": "73c5a082-92b5-45b0-a985-0efaeef73295",
   "metadata": {},
   "outputs": [
    {
     "data": {
      "text/plain": [
       "{'classifier__estimator__criterion': 'gini',\n",
       " 'classifier__estimator__n_estimators': 140}"
      ]
     },
     "execution_count": 61,
     "metadata": {},
     "output_type": "execute_result"
    }
   ],
   "source": [
    "cv.best_params_"
   ]
  },
  {
   "cell_type": "code",
   "execution_count": 62,
   "id": "f6356885-4cec-477b-805a-2b46731fa0de",
   "metadata": {},
   "outputs": [
    {
     "name": "stdout",
     "output_type": "stream",
     "text": [
      "0.46041506533435816\n",
      "              precision    recall  f1-score   support\n",
      "\n",
      "        bogo       0.64      0.64      0.64      1215\n",
      "    discount       0.64      0.81      0.72      1437\n",
      "\n",
      "   micro avg       0.64      0.73      0.68      2652\n",
      "   macro avg       0.64      0.73      0.68      2652\n",
      "weighted avg       0.64      0.73      0.68      2652\n",
      " samples avg       0.44      0.48      0.44      2652\n",
      "\n"
     ]
    },
    {
     "name": "stderr",
     "output_type": "stream",
     "text": [
      "/Users/SamaraSadeek/anaconda3/lib/python3.7/site-packages/sklearn/metrics/_classification.py:1318: UndefinedMetricWarning: Precision and F-score are ill-defined and being set to 0.0 in samples with no predicted labels. Use `zero_division` parameter to control this behavior.\n",
      "  _warn_prf(average, modifier, msg_start, len(result))\n",
      "/Users/SamaraSadeek/anaconda3/lib/python3.7/site-packages/sklearn/metrics/_classification.py:1318: UndefinedMetricWarning: Recall and F-score are ill-defined and being set to 0.0 in samples with no true labels. Use `zero_division` parameter to control this behavior.\n",
      "  _warn_prf(average, modifier, msg_start, len(result))\n"
     ]
    },
    {
     "data": {
      "text/plain": [
       "{'classifier__estimator__max_features': 'log2',\n",
       " 'classifier__estimator__min_samples_leaf': 6}"
      ]
     },
     "execution_count": 62,
     "metadata": {},
     "output_type": "execute_result"
    }
   ],
   "source": [
    "clf = MultiOutputClassifier(RandomForestClassifier())\n",
    "\n",
    "pipeline = Pipeline(\n",
    "    [\n",
    "        ('preprocess', preprocessing),\n",
    "        #('undersample', rus),\n",
    "        ('classifier', clf),\n",
    "    ]\n",
    "    \n",
    ")\n",
    "\n",
    "parameters = {'classifier__estimator__max_features': ('sqrt', 'log2'), 'classifier__estimator__min_samples_leaf':[6, 8, 10]}\n",
    "\n",
    "cv = GridSearchCV(pipeline, param_grid=parameters)\n",
    "\n",
    "\n",
    "cv.fit(X_train, y_train)\n",
    "y_pred = cv.predict(X_test)\n",
    "accuracy = accuracy_score(y_test, y_pred)\n",
    "report = classification_report(y_test, y_pred, target_names=['bogo', 'discount'])\n",
    "\n",
    "print(accuracy)\n",
    "print(report)\n",
    "cv.best_params_"
   ]
  },
  {
   "cell_type": "code",
   "execution_count": 58,
   "id": "d698f943-c6d8-41a6-b54f-4c17d7640ba0",
   "metadata": {},
   "outputs": [
    {
     "ename": "NameError",
     "evalue": "name 'MultiOutputClassifier' is not defined",
     "output_type": "error",
     "traceback": [
      "\u001b[0;31m---------------------------------------------------------------------------\u001b[0m",
      "\u001b[0;31mNameError\u001b[0m                                 Traceback (most recent call last)",
      "\u001b[0;32m<ipython-input-58-ac6b111d6f74>\u001b[0m in \u001b[0;36m<module>\u001b[0;34m\u001b[0m\n\u001b[1;32m      1\u001b[0m \u001b[0;32mfrom\u001b[0m \u001b[0msklearn\u001b[0m\u001b[0;34m.\u001b[0m\u001b[0mmetrics\u001b[0m \u001b[0;32mimport\u001b[0m \u001b[0mmultilabel_confusion_matrix\u001b[0m\u001b[0;34m\u001b[0m\u001b[0;34m\u001b[0m\u001b[0m\n\u001b[0;32m----> 2\u001b[0;31m \u001b[0mclf\u001b[0m \u001b[0;34m=\u001b[0m \u001b[0mMultiOutputClassifier\u001b[0m\u001b[0;34m(\u001b[0m\u001b[0mRandomForestClassifier\u001b[0m\u001b[0;34m(\u001b[0m\u001b[0;34m)\u001b[0m\u001b[0;34m)\u001b[0m\u001b[0;34m\u001b[0m\u001b[0;34m\u001b[0m\u001b[0m\n\u001b[0m\u001b[1;32m      3\u001b[0m \u001b[0;34m\u001b[0m\u001b[0m\n\u001b[1;32m      4\u001b[0m pipeline = Pipeline(\n\u001b[1;32m      5\u001b[0m     [\n",
      "\u001b[0;31mNameError\u001b[0m: name 'MultiOutputClassifier' is not defined"
     ]
    }
   ],
   "source": [
    "from sklearn.metrics import multilabel_confusion_matrix\n",
    "clf = MultiOutputClassifier(RandomForestClassifier())\n",
    "\n",
    "pipeline = Pipeline(\n",
    "    [\n",
    "        ('preprocess', preprocessing),\n",
    "        #('undersample', rus),\n",
    "        ('classifier', clf),\n",
    "    ]\n",
    "    \n",
    ")\n",
    "\n",
    "#parameters = {'classifier__estimator__max_features': ('sqrt'), 'classifier__estimator__min_samples_leaf':[6]}\n",
    "\n",
    "#cv = GridSearchCV(pipeline, param_grid=parameters)\n",
    "\n",
    "\n",
    "pipeline.fit(X_train, y_train)\n",
    "y_pred = pipeline.predict(X_test)\n",
    "accuracy = accuracy_score(y_test, y_pred)\n",
    "report = classification_report(y_test, y_pred, target_names=['bogo', 'discount'])\n",
    "\n",
    "print(accuracy)\n",
    "print(report)\n",
    "print (multilabel_confusion_matrix(y_test, y_pred))\n",
    "cv.best_params_\n"
   ]
  },
  {
   "cell_type": "code",
   "execution_count": 56,
   "id": "4b79f5cd-f80d-453d-891c-0265252e7edc",
   "metadata": {},
   "outputs": [
    {
     "ename": "NameError",
     "evalue": "name 'MultiOutputClassifier' is not defined",
     "output_type": "error",
     "traceback": [
      "\u001b[0;31m---------------------------------------------------------------------------\u001b[0m",
      "\u001b[0;31mNameError\u001b[0m                                 Traceback (most recent call last)",
      "\u001b[0;32m<ipython-input-56-cad3d776d0b7>\u001b[0m in \u001b[0;36m<module>\u001b[0;34m\u001b[0m\n\u001b[1;32m      1\u001b[0m \u001b[0;32mfrom\u001b[0m \u001b[0msklearn\u001b[0m\u001b[0;34m.\u001b[0m\u001b[0mmetrics\u001b[0m \u001b[0;32mimport\u001b[0m \u001b[0mmultilabel_confusion_matrix\u001b[0m\u001b[0;34m\u001b[0m\u001b[0;34m\u001b[0m\u001b[0m\n\u001b[0;32m----> 2\u001b[0;31m \u001b[0mclf\u001b[0m \u001b[0;34m=\u001b[0m \u001b[0mMultiOutputClassifier\u001b[0m\u001b[0;34m(\u001b[0m\u001b[0mRandomForestClassifier\u001b[0m\u001b[0;34m(\u001b[0m\u001b[0mcriterion\u001b[0m\u001b[0;34m=\u001b[0m\u001b[0;34m'gini'\u001b[0m\u001b[0;34m,\u001b[0m \u001b[0mn_estimators\u001b[0m\u001b[0;34m=\u001b[0m\u001b[0;36m140\u001b[0m\u001b[0;34m,\u001b[0m\u001b[0mmax_features\u001b[0m\u001b[0;34m=\u001b[0m\u001b[0;34m'sqrt'\u001b[0m\u001b[0;34m,\u001b[0m\u001b[0mmin_samples_leaf\u001b[0m\u001b[0;34m=\u001b[0m\u001b[0;36m6\u001b[0m \u001b[0;34m)\u001b[0m\u001b[0;34m)\u001b[0m\u001b[0;34m\u001b[0m\u001b[0;34m\u001b[0m\u001b[0m\n\u001b[0m\u001b[1;32m      3\u001b[0m \u001b[0;34m\u001b[0m\u001b[0m\n\u001b[1;32m      4\u001b[0m pipeline = Pipeline(\n\u001b[1;32m      5\u001b[0m     [\n",
      "\u001b[0;31mNameError\u001b[0m: name 'MultiOutputClassifier' is not defined"
     ]
    }
   ],
   "source": [
    "from sklearn.metrics import multilabel_confusion_matrix\n",
    "clf = MultiOutputClassifier(RandomForestClassifier(criterion='gini', n_estimators=140,max_features='sqrt',min_samples_leaf=6 ))\n",
    "\n",
    "pipeline = Pipeline(\n",
    "    [\n",
    "        ('preprocess', preprocessing),\n",
    "        #('undersample', rus),\n",
    "        ('classifier', clf),\n",
    "    ]\n",
    "    \n",
    ")\n",
    "\n",
    "#parameters = {'classifier__estimator__max_features': ('sqrt'), 'classifier__estimator__min_samples_leaf':[6]}\n",
    "\n",
    "#cv = GridSearchCV(pipeline, param_grid=parameters)\n",
    "\n",
    "\n",
    "pipeline.fit(X_train, y_train)\n",
    "y_pred = pipeline.predict(X_test)\n",
    "accuracy = accuracy_score(y_test, y_pred)\n",
    "report = classification_report(y_test, y_pred, target_names=['bogo', 'discount'])\n",
    "\n",
    "print(accuracy)\n",
    "print(report)\n",
    "print (multilabel_confusion_matrix(y_test, y_pred))\n",
    "cv.best_params_"
   ]
  },
  {
   "cell_type": "code",
   "execution_count": 150,
   "id": "49dae00f-4802-47c5-bca9-43d0b0391e41",
   "metadata": {},
   "outputs": [
    {
     "name": "stdout",
     "output_type": "stream",
     "text": [
      "0.48232129131437357\n",
      "              precision    recall  f1-score   support\n",
      "\n",
      "        bogo       0.59      0.80      0.68      1215\n",
      "    discount       0.65      0.75      0.70      1437\n",
      "\n",
      "   micro avg       0.62      0.77      0.69      2652\n",
      "   macro avg       0.62      0.77      0.69      2652\n",
      "weighted avg       0.62      0.77      0.69      2652\n",
      " samples avg       0.39      0.50      0.43      2652\n",
      "\n",
      "[[[ 709  678]\n",
      "  [ 245  970]]\n",
      "\n",
      " [[ 590  575]\n",
      "  [ 364 1073]]]\n"
     ]
    },
    {
     "name": "stderr",
     "output_type": "stream",
     "text": [
      "/Users/SamaraSadeek/anaconda3/lib/python3.7/site-packages/sklearn/metrics/_classification.py:1318: UndefinedMetricWarning: Precision and F-score are ill-defined and being set to 0.0 in samples with no predicted labels. Use `zero_division` parameter to control this behavior.\n",
      "  _warn_prf(average, modifier, msg_start, len(result))\n",
      "/Users/SamaraSadeek/anaconda3/lib/python3.7/site-packages/sklearn/metrics/_classification.py:1318: UndefinedMetricWarning: Recall and F-score are ill-defined and being set to 0.0 in samples with no true labels. Use `zero_division` parameter to control this behavior.\n",
      "  _warn_prf(average, modifier, msg_start, len(result))\n"
     ]
    },
    {
     "data": {
      "text/plain": [
       "{'classifier__estimator__C': 1, 'classifier__estimator__kernel': 'linear'}"
      ]
     },
     "execution_count": 150,
     "metadata": {},
     "output_type": "execute_result"
    }
   ],
   "source": [
    "from sklearn.metrics import multilabel_confusion_matrix\n",
    "from sklearn.svm import SVC\n",
    "clf = MultiOutputClassifier(SVC(kernel='linear'))\n",
    "\n",
    "pipeline = Pipeline(\n",
    "    [\n",
    "        ('preprocess', preprocessing),\n",
    "        #('undersample', rus),\n",
    "        ('classifier', clf),\n",
    "    ]\n",
    "    \n",
    ")\n",
    "\n",
    "parameters = {'classifier__estimator__kernel':('linear','rbf','sigmoid'),'classifier__estimator__C':[1,2,4]}\n",
    "\n",
    "cv = GridSearchCV(pipeline, param_grid=parameters)\n",
    "\n",
    "\n",
    "cv.fit(X_train, y_train)\n",
    "y_pred = cv.predict(X_test)\n",
    "accuracy = accuracy_score(y_test, y_pred)\n",
    "report = classification_report(y_test, y_pred, target_names=['bogo', 'discount'])\n",
    "\n",
    "print(accuracy)\n",
    "print(report)\n",
    "print (multilabel_confusion_matrix(y_test, y_pred))\n",
    "cv.best_params_"
   ]
  },
  {
   "cell_type": "code",
   "execution_count": 55,
   "id": "b841ee60-8b46-4793-bb0a-38bc82877093",
   "metadata": {},
   "outputs": [
    {
     "ename": "NameError",
     "evalue": "name 'MultiOutputClassifier' is not defined",
     "output_type": "error",
     "traceback": [
      "\u001b[0;31m---------------------------------------------------------------------------\u001b[0m",
      "\u001b[0;31mNameError\u001b[0m                                 Traceback (most recent call last)",
      "\u001b[0;32m<ipython-input-55-16e0562c3424>\u001b[0m in \u001b[0;36m<module>\u001b[0;34m\u001b[0m\n\u001b[0;32m----> 1\u001b[0;31m \u001b[0mclf\u001b[0m \u001b[0;34m=\u001b[0m \u001b[0mMultiOutputClassifier\u001b[0m\u001b[0;34m(\u001b[0m\u001b[0mLinearSVC\u001b[0m\u001b[0;34m(\u001b[0m\u001b[0mC\u001b[0m\u001b[0;34m=\u001b[0m\u001b[0;36m2\u001b[0m\u001b[0;34m)\u001b[0m\u001b[0;34m)\u001b[0m\u001b[0;34m\u001b[0m\u001b[0;34m\u001b[0m\u001b[0m\n\u001b[0m\u001b[1;32m      2\u001b[0m \u001b[0;34m\u001b[0m\u001b[0m\n\u001b[1;32m      3\u001b[0m pipeline = Pipeline(\n\u001b[1;32m      4\u001b[0m     [\n\u001b[1;32m      5\u001b[0m         \u001b[0;34m(\u001b[0m\u001b[0;34m'preprocess'\u001b[0m\u001b[0;34m,\u001b[0m \u001b[0mpreprocessing\u001b[0m\u001b[0;34m)\u001b[0m\u001b[0;34m,\u001b[0m\u001b[0;34m\u001b[0m\u001b[0;34m\u001b[0m\u001b[0m\n",
      "\u001b[0;31mNameError\u001b[0m: name 'MultiOutputClassifier' is not defined"
     ]
    }
   ],
   "source": [
    "clf = MultiOutputClassifier(LinearSVC(C=2))\n",
    "\n",
    "pipeline = Pipeline(\n",
    "    [\n",
    "        ('preprocess', preprocessing),\n",
    "        #('undersample', rus),\n",
    "        ('classifier', clf),\n",
    "    ]\n",
    "    \n",
    ")\n",
    "\n",
    "parameters = {'classifier__estimator__loss':('squared_hinge','hinge')}\n",
    "\n",
    "cv = GridSearchCV(pipeline, param_grid=parameters)\n",
    "\n",
    "\n",
    "cv.fit(X_train, y_train)\n",
    "y_pred = cv.predict(X_test)\n",
    "accuracy = accuracy_score(y_test, y_pred)\n",
    "report = classification_report(y_test, y_pred, target_names=['bogo', 'discount'])\n",
    "\n",
    "print(accuracy)\n",
    "print(report)\n",
    "cv.best_params_\n",
    "print (multilabel_confusion_matrix(y_test, y_pred))\n",
    "\n"
   ]
  },
  {
   "cell_type": "markdown",
   "id": "9112ba57-b643-452a-80bc-96bce4827c19",
   "metadata": {},
   "source": [
    "#### Implement expected profit"
   ]
  },
  {
   "cell_type": "code",
   "execution_count": 77,
   "id": "3b0cbf61-94cd-469a-aeac-fe347423b5e5",
   "metadata": {},
   "outputs": [],
   "source": [
    "# Defining benefits associated with true positive, true negatives\n",
    "b_tp = 10\n",
    "b_tn = 0\n",
    "\n",
    "# Defining costs (or negative benefits) associated with false postives, false negatives\n",
    "b_fp = -1\n",
    "b_fn = -10 "
   ]
  },
  {
   "cell_type": "code",
   "execution_count": 76,
   "id": "816b605b-75f2-4937-9e3f-66a2253bf7b9",
   "metadata": {},
   "outputs": [],
   "source": [
    "# Calculating probabilities needed to compute expected profit \n",
    "\n",
    "p_bogo = y_test['bogo'].value_counts().sort_index(ascending=True)[1]\n",
    "n_bogo = y_test['bogo'].value_counts().sort_index(ascending=True)[0]\n",
    "\n",
    "p_disc = y_test['discount'].value_counts().sort_index(ascending=True)[1]\n",
    "n_disc = y_test['discount'].value_counts().sort_index(ascending=True)[0]\n",
    "\n",
    "prob_p_bogo = p_bogo/(p_bogo + n_bogo)\n",
    "prob_n_bogo = n_bogo/(p_bogo + n_bogo) \n",
    "\n",
    "prob_p_disc = p_disc/(p_disc + n_disc)\n",
    "prob_n_disc = n_disc/(p_disc + n_disc)"
   ]
  },
  {
   "cell_type": "code",
   "execution_count": 75,
   "id": "d91a8337-0b3f-47e8-ad3a-c0e19fd3b1ce",
   "metadata": {},
   "outputs": [],
   "source": [
    "# Extracting values from confusion matrix \n",
    "\n",
    "tn_bogo, fp_bogo, fn_bogo, tp_bogo = multilabel_confusion_matrix(y_test, y_pred)[0].ravel()\n",
    "tn_disc, fp_disc, fn_disc, tp_disc = multilabel_confusion_matrix(y_test, y_pred)[1].ravel()"
   ]
  },
  {
   "cell_type": "code",
   "execution_count": 84,
   "id": "363438dc-39a8-48c6-812f-90c2e94bf3cf",
   "metadata": {},
   "outputs": [],
   "source": [
    "# Expected profit\n",
    "E_prof_bogo = (tp_bogo * prob_p_bogo * b_tp) + (fn_bogo * prob_p_bogo * b_fn)+ (tn_bogo * prob_n_bogo * b_tn) + (fp_bogo * prob_n_bogo * b_fp)\n",
    "E_prof_disc = (tp_disc * prob_p_disc * b_tp) + (fn_disc * prob_p_disc * b_fn) + (tn_disc * prob_n_disc * b_tn) + (fp_disc * prob_n_disc * b_fp)\n",
    "\n",
    "E_prof = E_prof_bogo + E_prof_disc"
   ]
  },
  {
   "cell_type": "code",
   "execution_count": null,
   "id": "949c1598-86ad-4217-8484-6169fbf808f3",
   "metadata": {},
   "outputs": [],
   "source": []
  }
 ],
 "metadata": {
  "kernelspec": {
   "display_name": "Python 3",
   "language": "python",
   "name": "python3"
  },
  "language_info": {
   "codemirror_mode": {
    "name": "ipython",
    "version": 3
   },
   "file_extension": ".py",
   "mimetype": "text/x-python",
   "name": "python",
   "nbconvert_exporter": "python",
   "pygments_lexer": "ipython3",
   "version": "3.7.11"
  }
 },
 "nbformat": 4,
 "nbformat_minor": 5
}
